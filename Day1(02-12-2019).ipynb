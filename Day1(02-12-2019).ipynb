{
 "cells": [
  {
   "cell_type": "markdown",
   "metadata": {},
   "source": [
    "# Markdowns\n",
    "## Markdowns\n",
    "### Markdowns\n",
    "#### Markdowns\n",
    "##### Markdowns\n",
    "###### Markdowns"
   ]
  },
  {
   "cell_type": "markdown",
   "metadata": {},
   "source": [
    "### Inserting an image\n",
    "![text](https://images.pexels.com/photos/326055/pexels-photo-326055.jpeg?auto=compress&cs=tinysrgb&dpr=1&w=500)"
   ]
  },
  {
   "cell_type": "markdown",
   "metadata": {},
   "source": [
    "### Inserting a site\n",
    "[site](https://www.google.com/search?q=images&sxsrf=ACYBGNQTWRm845sEFE3zy_A0vqF4me6ovQ:1575217468637&tbm=isch&source=iu&ictx=1&fir=Hc12q6ggbzStcM%253A%252CpFs_4Fcq5AgpmM%252C_&vet=1&usg=AI4_-kRuX6iPkzO5XSXRqUbYE2WUDM7_5w&sa=X&ved=2ahUKEwjd16Wt7pTmAhUVzjgGHVlGAUUQ9QEwAnoECAgQMw#imgrc=Hc12q6ggbzStcM:)"
   ]
  },
  {
   "cell_type": "markdown",
   "metadata": {},
   "source": [
    "### for creating ordered list\n",
    "1. abc\n",
    "2. efg\n",
    "    1. a\n",
    "    2. b\n",
    "3. hij\n",
    "    1. c\n",
    "    2. d"
   ]
  },
  {
   "cell_type": "markdown",
   "metadata": {},
   "source": [
    "### - symbol for creating unordered list\n",
    "- abc\n",
    "- efg\n",
    "    - a\n",
    "    - b\n",
    "- hij\n",
    "    - c\n",
    "    - d"
   ]
  },
  {
   "cell_type": "markdown",
   "metadata": {},
   "source": [
    "### ** for bold and single * for itlalic text\n",
    "**preeti**<br>\n",
    "*preeti*"
   ]
  },
  {
   "cell_type": "markdown",
   "metadata": {},
   "source": [
    "#### Input & output\n",
    "#### variables\n",
    "#### Numbers,Boolean\n",
    "#### strings\n"
   ]
  },
  {
   "cell_type": "code",
   "execution_count": 3,
   "metadata": {},
   "outputs": [
    {
     "name": "stdout",
     "output_type": "stream",
     "text": [
      "hello world!!\n"
     ]
    }
   ],
   "source": [
    "#output functiond\n",
    "print(\"hello world!!\")"
   ]
  },
  {
   "cell_type": "code",
   "execution_count": 4,
   "metadata": {},
   "outputs": [
    {
     "data": {
      "text/plain": [
       "30"
      ]
     },
     "execution_count": 4,
     "metadata": {},
     "output_type": "execute_result"
    }
   ],
   "source": [
    "#variable creation\n",
    "#Rules to create an identifier-->\n",
    "#1.name should begin with a character\n",
    "#2.no special characters allowed except _\n",
    "#3.keywords cannot be identifiers\n",
    "x = 10\n",
    "y = 20\n",
    "x + y"
   ]
  },
  {
   "cell_type": "code",
   "execution_count": 5,
   "metadata": {},
   "outputs": [
    {
     "name": "stdout",
     "output_type": "stream",
     "text": [
      "my name is: preeti age is: 25\n"
     ]
    }
   ],
   "source": [
    "name = \"preeti\"\n",
    "age = 25\n",
    "print(\"my name is:\",name,\"age is:\",age)"
   ]
  },
  {
   "cell_type": "code",
   "execution_count": 7,
   "metadata": {},
   "outputs": [
    {
     "name": "stdout",
     "output_type": "stream",
     "text": [
      "enter ur namepreeti\n",
      "enter ur age25\n",
      "my name is: preeti and my age is: 25\n"
     ]
    }
   ],
   "source": [
    "name = input(\"enter ur name\")\n",
    "age = int(input(\"enter ur age\"))\n",
    "print(\"my name is:\",name,\"and my age is:\",age)"
   ]
  },
  {
   "cell_type": "markdown",
   "metadata": {},
   "source": [
    "### Fundamental Datatypes:\n",
    "1. int\n",
    "2. float\n",
    "3. complex\n",
    "4. Boolean\n",
    "5. String"
   ]
  },
  {
   "cell_type": "code",
   "execution_count": 8,
   "metadata": {},
   "outputs": [
    {
     "name": "stdout",
     "output_type": "stream",
     "text": [
      "<class 'int'> <class 'float'> <class 'complex'>\n"
     ]
    }
   ],
   "source": [
    "x = 10\n",
    "y = 12.34\n",
    "z = 5+6j\n",
    "print(type(x),type(y),type(z))"
   ]
  },
  {
   "cell_type": "code",
   "execution_count": 9,
   "metadata": {},
   "outputs": [
    {
     "name": "stdout",
     "output_type": "stream",
     "text": [
      "(3+4j)\n"
     ]
    }
   ],
   "source": [
    "c = complex(3,4)\n",
    "print(c)"
   ]
  },
  {
   "cell_type": "code",
   "execution_count": 10,
   "metadata": {},
   "outputs": [
    {
     "name": "stdout",
     "output_type": "stream",
     "text": [
      "(9+12j)\n",
      "(-3-2j)\n",
      "(-17+51j)\n"
     ]
    }
   ],
   "source": [
    "c1 = 3+5j #complex\n",
    "c2 = 6+7j\n",
    "print(c1+c2)\n",
    "print(c1-c2)\n",
    "print(c1*c2)"
   ]
  },
  {
   "cell_type": "code",
   "execution_count": 11,
   "metadata": {},
   "outputs": [
    {
     "data": {
      "text/plain": [
       "False"
      ]
     },
     "execution_count": 11,
     "metadata": {},
     "output_type": "execute_result"
    }
   ],
   "source": [
    "a = True #boolean\n",
    "b = False\n",
    "x > y"
   ]
  },
  {
   "cell_type": "code",
   "execution_count": 12,
   "metadata": {},
   "outputs": [
    {
     "name": "stdout",
     "output_type": "stream",
     "text": [
      "<class 'str'> <class 'str'>\n"
     ]
    }
   ],
   "source": [
    "#strings\n",
    "s1 = \"abc\"\n",
    "s2 = 'xyz'\n",
    "print(type(s1),type(s2))"
   ]
  },
  {
   "cell_type": "code",
   "execution_count": 13,
   "metadata": {},
   "outputs": [
    {
     "name": "stdout",
     "output_type": "stream",
     "text": [
      "<class 'int'>\n",
      "<class 'str'>\n",
      "<class 'float'>\n"
     ]
    }
   ],
   "source": [
    "i = 100\n",
    "print(type(i))\n",
    "s1 = str(i) # str() converts the input into string type\n",
    "print(type(s1))\n",
    "f1 = float(i) # float() converts the input into float type\n",
    "print(type(f1))"
   ]
  },
  {
   "cell_type": "code",
   "execution_count": 14,
   "metadata": {},
   "outputs": [
    {
     "name": "stdout",
     "output_type": "stream",
     "text": [
      "<class 'str'>\n",
      "<class 'int'>\n",
      "<class 'int'>\n",
      "1\n"
     ]
    }
   ],
   "source": [
    "s1 = \"100\"\n",
    "print(type(s1))\n",
    "a = int(s1)\n",
    "print(type(a))\n",
    "f = 1.5\n",
    "a1 = int(f)\n",
    "print(type(a1))\n",
    "print(a1)"
   ]
  },
  {
   "cell_type": "code",
   "execution_count": 15,
   "metadata": {},
   "outputs": [
    {
     "name": "stdout",
     "output_type": "stream",
     "text": [
      "4\n"
     ]
    }
   ],
   "source": [
    "# A number is given 1234 -\n",
    "# Digit count\n",
    "a1 = 1234\n",
    "print(len(str(a1)))"
   ]
  },
  {
   "cell_type": "code",
   "execution_count": null,
   "metadata": {},
   "outputs": [],
   "source": []
  }
 ],
 "metadata": {
  "kernelspec": {
   "display_name": "Python 3",
   "language": "python",
   "name": "python3"
  },
  "language_info": {
   "codemirror_mode": {
    "name": "ipython",
    "version": 3
   },
   "file_extension": ".py",
   "mimetype": "text/x-python",
   "name": "python",
   "nbconvert_exporter": "python",
   "pygments_lexer": "ipython3",
   "version": "3.7.3"
  }
 },
 "nbformat": 4,
 "nbformat_minor": 2
}
