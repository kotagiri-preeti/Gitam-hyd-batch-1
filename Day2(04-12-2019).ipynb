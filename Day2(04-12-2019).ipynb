{
 "cells": [
  {
   "cell_type": "markdown",
   "metadata": {},
   "source": [
    "### Functional Programming\n",
    "1. Simple\n",
    "2. Easy to understand\n",
    "3. Better Reuseability\n",
    "4. Lengthy Program will be divided into Sub Programs"
   ]
  },
  {
   "cell_type": "code",
   "execution_count": null,
   "metadata": {},
   "outputs": [],
   "source": [
    "def nameoftheFunction(<parameters>):\n",
    "    Statements\n",
    "    return"
   ]
  },
  {
   "cell_type": "code",
   "execution_count": 1,
   "metadata": {},
   "outputs": [
    {
     "data": {
      "text/plain": [
       "6"
      ]
     },
     "execution_count": 1,
     "metadata": {},
     "output_type": "execute_result"
    }
   ],
   "source": [
    "# Read a Number\n",
    "# Print the Even digit sum from the number\n",
    "\n",
    "# Input  : 1234\n",
    "# Output : 6(2 + 4)\n",
    "\n",
    "def evenDigitSum(n):\n",
    "    s = 0\n",
    "    while n != 0:\n",
    "        r = n % 10\n",
    "        if r % 2 == 0:\n",
    "            s = s + r\n",
    "        n = n // 10            \n",
    "    return s\n",
    "evenDigitSum(1234)"
   ]
  },
  {
   "cell_type": "code",
   "execution_count": 2,
   "metadata": {},
   "outputs": [
    {
     "data": {
      "text/plain": [
       "9"
      ]
     },
     "execution_count": 2,
     "metadata": {},
     "output_type": "execute_result"
    }
   ],
   "source": [
    "# Input : 19535\n",
    "# Output : 9 (Large digit of the given number)\n",
    "# Functional programming\n",
    "\n",
    "def largeDigit(n):\n",
    "    large = 0\n",
    "    while n != 0:\n",
    "        r = n % 10\n",
    "        if large < r :\n",
    "            large = r\n",
    "        n = n // 10\n",
    "    return large\n",
    "largeDigit(19535)"
   ]
  },
  {
   "cell_type": "code",
   "execution_count": 3,
   "metadata": {},
   "outputs": [
    {
     "name": "stdout",
     "output_type": "stream",
     "text": [
      "Yes\n",
      "NO\n"
     ]
    }
   ],
   "source": [
    "# Read a number as input\n",
    "# Output Yes or No\n",
    "\n",
    "# Input : 145\n",
    "# Output : Yes\n",
    "\n",
    "# Input : 123\n",
    "# Output : No\n",
    "\n",
    "# Individual Digit factorial sum is same as input number\n",
    "\n",
    "def factorial(n):\n",
    "    fact = 1\n",
    "    i = 1\n",
    "    while i <= n:\n",
    "        fact = fact * i\n",
    "        i = i + 1\n",
    "    return fact\n",
    "\n",
    "def digitFactSum(n):\n",
    "    s = 0\n",
    "    buffer = n\n",
    "    while n != 0:\n",
    "        r = n % 10\n",
    "        s += factorial(r)\n",
    "        n = n // 10\n",
    "    if buffer == s:\n",
    "        return \"Yes\"\n",
    "    else : \n",
    "        return \"NO\" \n",
    "    return\n",
    "\n",
    "print(digitFactSum(145)) # Yes\n",
    "print(digitFactSum(123)) # No\n"
   ]
  },
  {
   "cell_type": "code",
   "execution_count": 4,
   "metadata": {},
   "outputs": [
    {
     "name": "stdout",
     "output_type": "stream",
     "text": [
      "Palindrome\n",
      "Not a Palindrome\n"
     ]
    }
   ],
   "source": [
    "# Read a number as input \n",
    "# Output as Palindrome or Not a Palindrome\n",
    "# Palindrome -- A number after reversing is same as the original number \n",
    "\n",
    "# Input : 121\n",
    "# Output : Palindrome\n",
    "\n",
    "# Input : 123\n",
    "# Output : Not a Palindrome\n",
    "\n",
    "def isPalindrome(n):\n",
    "    rev = 0\n",
    "    buffer = n\n",
    "    while n != 0:\n",
    "        rev = rev * 10 + (n%10)\n",
    "        n = n // 10\n",
    "    if buffer  == rev :\n",
    "        return \"Palindrome\"\n",
    "    return \"Not a Palindrome\"\n",
    "print(isPalindrome(121)) # Palindrome\n",
    "print(isPalindrome(123)) # Not a Palindrome"
   ]
  },
  {
   "cell_type": "markdown",
   "metadata": {},
   "source": [
    "### for loop\n",
    "#### Syntax1:\n",
    "for i in range(start,stop,step):\n",
    "> statements\n",
    "#### Synatx2:\n",
    "for i in Iterableobject:\n",
    "> statements"
   ]
  },
  {
   "cell_type": "code",
   "execution_count": 5,
   "metadata": {},
   "outputs": [
    {
     "name": "stdout",
     "output_type": "stream",
     "text": [
      "11 12 13 14 15 16 17 18 19 20 21 22 23 24 25 "
     ]
    }
   ],
   "source": [
    "# Function to print the numbers between two limits\n",
    "# Input  : 11 25 \n",
    "# Output : 11 12 13 14 .............. 25\n",
    "\n",
    "def printSeries(lb,ub):\n",
    "    for x in range(lb,ub+1):\n",
    "        print(x,end = ' ')\n",
    "    return\n",
    "printSeries(11,25)"
   ]
  },
  {
   "cell_type": "code",
   "execution_count": 6,
   "metadata": {},
   "outputs": [
    {
     "name": "stdout",
     "output_type": "stream",
     "text": [
      "500 504 508 512 516 520 "
     ]
    }
   ],
   "source": [
    "# function to print the alternate numbers\n",
    "# [500,520] --  500 502 504 506 508 510 .... 520\n",
    "# [100,140] -- 100 104 108 112 116 .... 140\n",
    "def alternateNumbers(lb,ub):\n",
    "    for x in range(lb,ub+1,4):\n",
    "        print(x,end=' ')\n",
    "    return\n",
    "alternateNumbers(500,520)"
   ]
  },
  {
   "cell_type": "markdown",
   "metadata": {},
   "source": [
    "### Collection types:\n",
    "1. List\n",
    "2. Tuple\n",
    "3. Set\n",
    "4. Dictionary"
   ]
  },
  {
   "cell_type": "markdown",
   "metadata": {},
   "source": [
    "#### List:\n",
    "-  One of the Data Structure in Python\n",
    "-  Data Structure means to store, sort and Search Options\n",
    "-  It's one Common Data structure in Python, the items of List separeted by comma and enclosed in square brackets []\n",
    "#### Example\n",
    "   - list1 = [1,2,3,4,5]\n",
    "   - list2 = [\"Gitam\",1,2,1.89,\"Vizg\"]"
   ]
  },
  {
   "cell_type": "code",
   "execution_count": 18,
   "metadata": {},
   "outputs": [
    {
     "name": "stdout",
     "output_type": "stream",
     "text": [
      "[1, 8, 16, 9, 2]\n",
      "1\n",
      "8\n",
      "2\n",
      "9\n",
      "[16, 9, 2]\n",
      "[16, 9]\n",
      "[1, 16, 2]\n"
     ]
    }
   ],
   "source": [
    "li = [1,8,16,9,2]\n",
    "print(li) # Will print the All the list items\n",
    "print(li[0]) #Access the first item of the list\n",
    "print(li[1]) # Access the second item of the list\n",
    "print(li[-1]) # Access the last item of the list\n",
    "print(li[-2]) # Access the last second item of the list\n",
    "print(li[2:])\n",
    "print(li[2:4])\n",
    "print(li[::2])"
   ]
  },
  {
   "cell_type": "code",
   "execution_count": 8,
   "metadata": {},
   "outputs": [
    {
     "name": "stdout",
     "output_type": "stream",
     "text": [
      "['Gitam', 1582, 2018, 2019, 'Vizag']\n",
      "['Gitam', 1234, 2018, 2019, 'Vizag']\n"
     ]
    }
   ],
   "source": [
    "li = [\"Gitam\",1582,2018,2019,\"Vizag\"]\n",
    "print(li)\n",
    "# Update the list item with value using Index\n",
    "li[1] = 1234\n",
    "print(li)"
   ]
  },
  {
   "cell_type": "code",
   "execution_count": 9,
   "metadata": {},
   "outputs": [
    {
     "name": "stdout",
     "output_type": "stream",
     "text": [
      "['Gitam', 1234, 2018, 'Vizag']\n"
     ]
    }
   ],
   "source": [
    "# Delete the list item from the List\n",
    "del li[3]\n",
    "print(li)"
   ]
  },
  {
   "cell_type": "code",
   "execution_count": 10,
   "metadata": {},
   "outputs": [
    {
     "name": "stdout",
     "output_type": "stream",
     "text": [
      "5\n",
      "[1, 2, 3, 4, 5, 1, 2, 3, 4, 5]\n",
      "True\n",
      "False\n",
      "1 2 3 4 5 \n",
      "1 2 3 4 5 "
     ]
    }
   ],
   "source": [
    "# Basic List Operations\n",
    "li = [1,2,3,4,5]\n",
    "# Len of the List\n",
    "print(len(li))\n",
    "# List Repetition\n",
    "print(li * 2)\n",
    "# To know certain item is present in the list or not\n",
    "print(4 in li)\n",
    "print(10 in li)\n",
    "# Access the list items from the Iterations\n",
    "# 1 way to define\n",
    "for i in range(len(li)):\n",
    "    print(li[i],end=' ')\n",
    "print()\n",
    "# 2 way to print the list items\n",
    "for i in li:\n",
    "    print(i,end=' ')"
   ]
  },
  {
   "cell_type": "code",
   "execution_count": 11,
   "metadata": {},
   "outputs": [
    {
     "name": "stdout",
     "output_type": "stream",
     "text": [
      "25\n",
      "1\n",
      "56\n",
      "11\n"
     ]
    }
   ],
   "source": [
    "# Basic List Functions\n",
    "li = [1,9,16,25,5]\n",
    "print(max(li)) # Max number of the List\n",
    "print(min(li)) # Min number of the list\n",
    "print(sum(li)) # Sum of All list items\n",
    "print(sum(li)//len(li)) #Avg of List items"
   ]
  },
  {
   "cell_type": "code",
   "execution_count": 12,
   "metadata": {},
   "outputs": [
    {
     "data": {
      "text/plain": [
       "2"
      ]
     },
     "execution_count": 12,
     "metadata": {},
     "output_type": "execute_result"
    }
   ],
   "source": [
    "li = [1,9,16,25,5]\n",
    "li.append(29) # Add the new item at the end of list\n",
    "li.insert(2,56) # Add the new item at the specific index\n",
    "li.append(9)\n",
    "li.count(9) # returns the value how many object repeated \n",
    "li.index(56) # return the value at that index"
   ]
  },
  {
   "cell_type": "code",
   "execution_count": 13,
   "metadata": {},
   "outputs": [
    {
     "data": {
      "text/plain": [
       "[1, 9, 9, 16, 25, 29]"
      ]
     },
     "execution_count": 13,
     "metadata": {},
     "output_type": "execute_result"
    }
   ],
   "source": [
    "# Method of List Object\n",
    "li.sort() # Sorts the list in asending order\n",
    "li.pop() # last index value\n",
    "li.pop(1) # Removes the items from the specified index\n",
    "li"
   ]
  },
  {
   "cell_type": "code",
   "execution_count": 15,
   "metadata": {},
   "outputs": [],
   "source": [
    "li1 = [1,6,19,25]\n",
    "li.extend(li1)\n",
    "li.reverse()\n",
    "li.sort()"
   ]
  },
  {
   "cell_type": "code",
   "execution_count": 16,
   "metadata": {},
   "outputs": [
    {
     "name": "stdout",
     "output_type": "stream",
     "text": [
      "45\n",
      "22\n"
     ]
    }
   ],
   "source": [
    "# Function to return the large number from the list\n",
    "def largeNumber(li):\n",
    "    li.sort()\n",
    "    return li[-1]\n",
    "def genericLarge(li,n):\n",
    "    li.sort()\n",
    "    return li[-n]\n",
    "li = [19,1,25,6,9,45,22]\n",
    "print(largeNumber(li))\n",
    "print(genericLarge(li,3))"
   ]
  },
  {
   "cell_type": "code",
   "execution_count": 17,
   "metadata": {},
   "outputs": [
    {
     "name": "stdout",
     "output_type": "stream",
     "text": [
      "1\n",
      "19\n"
     ]
    }
   ],
   "source": [
    "# Function to find least and Generic Least number from the list\n",
    "def leastNumber(li):\n",
    "    li.sort()\n",
    "    return li[0]\n",
    "def genericLeastNumber(li,n):\n",
    "    li.sort()\n",
    "    return li[n-1]\n",
    "li = [19,1,25,6,9,45,22]\n",
    "print(leastNumber(li))\n",
    "print(genericLeastNumber(li,4))"
   ]
  },
  {
   "cell_type": "markdown",
   "metadata": {},
   "source": [
    "### Tuples\n",
    "- parenthesis()-->Tuple and square brackets[]-->list\n",
    "- Difference between list and tuples\n",
    "    - list are mutable - can be changed / modified\n",
    "    - Used to access modify, Add, Delete data\n",
    "    - Tuples are immutable - cannot be changed\n",
    "    - Used to access data only"
   ]
  },
  {
   "cell_type": "code",
   "execution_count": 20,
   "metadata": {},
   "outputs": [
    {
     "name": "stdout",
     "output_type": "stream",
     "text": [
      "<class 'tuple'> (2, 3, 4, 5)\n"
     ]
    }
   ],
   "source": [
    "t1 = (1,2,3,4,5,6)\n",
    "t1\n",
    "print(type(t1),t1[1:5])"
   ]
  },
  {
   "cell_type": "markdown",
   "metadata": {},
   "source": [
    "### Dictionaries\n",
    "1. It works on the concept of Set Unique Data\n",
    "2. Keys,Values is the unique identifier for a value\n",
    "3. Each key is separted from its values with colon(:)\n",
    "4. Each key and value is separted by comma(,)\n",
    "5. Dictionaries enclosed with Curly braces({})"
   ]
  },
  {
   "cell_type": "code",
   "execution_count": 21,
   "metadata": {},
   "outputs": [
    {
     "name": "stdout",
     "output_type": "stream",
     "text": [
      "{'Name': 'Gitam', 'EmailId': 'gitam@gmail.com', 'Address': 'Hyderabad'}\n"
     ]
    }
   ],
   "source": [
    "d1 = {\"Name\":\"Gitam\",\"EmailId\":\"gitam@gmail.com\",\"Address\":\"Hyderabad\"}\n",
    "print(d1)"
   ]
  },
  {
   "cell_type": "code",
   "execution_count": 22,
   "metadata": {},
   "outputs": [
    {
     "data": {
      "text/plain": [
       "'Gitam'"
      ]
     },
     "execution_count": 22,
     "metadata": {},
     "output_type": "execute_result"
    }
   ],
   "source": [
    "d1[\"Name\"] # Acces the specific key"
   ]
  },
  {
   "cell_type": "code",
   "execution_count": 23,
   "metadata": {},
   "outputs": [],
   "source": [
    "d1['EmailId'] = 'Gitam-Python@gmail.com' # Update the data"
   ]
  },
  {
   "cell_type": "code",
   "execution_count": 24,
   "metadata": {},
   "outputs": [
    {
     "data": {
      "text/plain": [
       "'Gitam-Python@gmail.com'"
      ]
     },
     "execution_count": 24,
     "metadata": {},
     "output_type": "execute_result"
    }
   ],
   "source": [
    "d1['EmailId']\n"
   ]
  },
  {
   "cell_type": "code",
   "execution_count": 30,
   "metadata": {},
   "outputs": [
    {
     "data": {
      "text/plain": [
       "{'Name': 'Gitam', 'Address': 'Hyderabad', 'course': 'python'}"
      ]
     },
     "execution_count": 30,
     "metadata": {},
     "output_type": "execute_result"
    }
   ],
   "source": [
    "d1['course'] = 'python'#Adding an entry\n",
    "d1"
   ]
  },
  {
   "cell_type": "code",
   "execution_count": 25,
   "metadata": {},
   "outputs": [],
   "source": [
    "del d1['EmailId'] # Delete the specific key value"
   ]
  },
  {
   "cell_type": "code",
   "execution_count": 26,
   "metadata": {},
   "outputs": [
    {
     "data": {
      "text/plain": [
       "{'Name': 'Gitam', 'Address': 'Hyderabad'}"
      ]
     },
     "execution_count": 26,
     "metadata": {},
     "output_type": "execute_result"
    }
   ],
   "source": [
    "d1 # del d1 will delete the entire dict object"
   ]
  },
  {
   "cell_type": "code",
   "execution_count": 27,
   "metadata": {},
   "outputs": [
    {
     "data": {
      "text/plain": [
       "dict_keys(['Name', 'Address'])"
      ]
     },
     "execution_count": 27,
     "metadata": {},
     "output_type": "execute_result"
    }
   ],
   "source": [
    "d1.keys() # returns the list of keys"
   ]
  },
  {
   "cell_type": "code",
   "execution_count": 28,
   "metadata": {},
   "outputs": [
    {
     "data": {
      "text/plain": [
       "dict_values(['Gitam', 'Hyderabad'])"
      ]
     },
     "execution_count": 28,
     "metadata": {},
     "output_type": "execute_result"
    }
   ],
   "source": [
    "d1.values() # returns the values"
   ]
  },
  {
   "cell_type": "code",
   "execution_count": 29,
   "metadata": {},
   "outputs": [
    {
     "data": {
      "text/plain": [
       "dict_items([('Name', 'Gitam'), ('Address', 'Hyderabad')])"
      ]
     },
     "execution_count": 29,
     "metadata": {},
     "output_type": "execute_result"
    }
   ],
   "source": [
    "d1.items() # the ist of tuples of keys and values"
   ]
  },
  {
   "cell_type": "code",
   "execution_count": 32,
   "metadata": {},
   "outputs": [
    {
     "name": "stdout",
     "output_type": "stream",
     "text": [
      "p   y   t   h   o   n       p   r   o   g   r   a   m   m   i   n   "
     ]
    }
   ],
   "source": [
    "#for loop using an iterable object\n",
    "str1 = \"python programming\"\n",
    "for i in str1:\n",
    "    print(i,end=\"   \")"
   ]
  },
  {
   "cell_type": "code",
   "execution_count": 33,
   "metadata": {},
   "outputs": [
    {
     "name": "stdout",
     "output_type": "stream",
     "text": [
      "23\n",
      "3\n",
      "4\n",
      "54\n",
      "6\n",
      "57\n"
     ]
    }
   ],
   "source": [
    "#printing list elements\n",
    "list1 = [23,3,4,54,6,57]\n",
    "for i in list1:\n",
    "    print(i)"
   ]
  },
  {
   "cell_type": "code",
   "execution_count": 34,
   "metadata": {},
   "outputs": [
    {
     "name": "stdout",
     "output_type": "stream",
     "text": [
      "4\n",
      "54\n",
      "6\n"
     ]
    }
   ],
   "source": [
    "#printing only even elements from the given list\n",
    "for i in list1:\n",
    "    if i%2 == 0:\n",
    "        print(i)"
   ]
  },
  {
   "cell_type": "markdown",
   "metadata": {},
   "source": [
    "###  Exercise Question"
   ]
  },
  {
   "cell_type": "code",
   "execution_count": 35,
   "metadata": {},
   "outputs": [
    {
     "data": {
      "text/plain": [
       "[1, 4, 5, 6, 9]"
      ]
     },
     "execution_count": 35,
     "metadata": {},
     "output_type": "execute_result"
    }
   ],
   "source": [
    "# Function for Converstion - Number to List\n",
    "# Input  -- Number\n",
    "# Output -- list\n",
    "# Test Cases:-\n",
    "# 14569 -- [1,4,5,6,9]\n",
    "# 1990  -- [1,9,9,0]\n",
    "def numberListConversion(n):\n",
    "    li = []\n",
    "    while n != 0:\n",
    "        r = n % 10\n",
    "        li.append(r)\n",
    "        n = n // 10\n",
    "    li.reverse()\n",
    "    return li\n",
    "numberListConversion(14569)#[1,4,5,6,9]"
   ]
  },
  {
   "cell_type": "code",
   "execution_count": 38,
   "metadata": {},
   "outputs": [
    {
     "name": "stdout",
     "output_type": "stream",
     "text": [
      "1 2 3 4 6 12 "
     ]
    }
   ],
   "source": [
    "# Find the factors of a given number\n",
    "# 12 -- > 1 2 3 4 6 12\n",
    "def factorsList(n):\n",
    "    for i in range(1,n+1):\n",
    "        if n % i == 0:\n",
    "            print(i,end=\" \")\n",
    "    return\n",
    "factorsList(12)\n"
   ]
  },
  {
   "cell_type": "code",
   "execution_count": 39,
   "metadata": {},
   "outputs": [
    {
     "data": {
      "text/plain": [
       "True"
      ]
     },
     "execution_count": 39,
     "metadata": {},
     "output_type": "execute_result"
    }
   ],
   "source": [
    "# Given number is Prime number or not\n",
    "def isPrime(n):\n",
    "    flag = True\n",
    "    for i in range(2,n//2+1):\n",
    "        if n % i == 0:\n",
    "            flag = False\n",
    "            return flag\n",
    "    return flag\n",
    "isPrime(11)"
   ]
  },
  {
   "cell_type": "code",
   "execution_count": null,
   "metadata": {},
   "outputs": [],
   "source": []
  }
 ],
 "metadata": {
  "kernelspec": {
   "display_name": "Python 3",
   "language": "python",
   "name": "python3"
  },
  "language_info": {
   "codemirror_mode": {
    "name": "ipython",
    "version": 3
   },
   "file_extension": ".py",
   "mimetype": "text/x-python",
   "name": "python",
   "nbconvert_exporter": "python",
   "pygments_lexer": "ipython3",
   "version": "3.7.3"
  }
 },
 "nbformat": 4,
 "nbformat_minor": 2
}
